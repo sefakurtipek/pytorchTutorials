{
  "nbformat": 4,
  "nbformat_minor": 0,
  "metadata": {
    "colab": {
      "provenance": [],
      "gpuType": "T4",
      "include_colab_link": true
    },
    "kernelspec": {
      "name": "python3",
      "display_name": "Python 3"
    },
    "language_info": {
      "name": "python"
    },
    "accelerator": "GPU"
  },
  "cells": [
    {
      "cell_type": "markdown",
      "metadata": {
        "id": "view-in-github",
        "colab_type": "text"
      },
      "source": [
        "<a href=\"https://colab.research.google.com/github/sefakurtipek/pytorchTutorials/blob/main/00_pytorch_fundamentals_exercises.ipynb\" target=\"_parent\"><img src=\"https://colab.research.google.com/assets/colab-badge.svg\" alt=\"Open In Colab\"/></a>"
      ]
    },
    {
      "cell_type": "markdown",
      "source": [
        "# 00. PyTorch Fundamentals Exercises\n",
        "\n",
        "### 1. Documentation reading\n",
        "\n",
        "A big part of deep learning (and learning to code in general) is getting familiar with the documentation of a certain framework you're using. We'll be using the PyTorch documentation a lot throughout the rest of this course. So I'd recommend spending 10-minutes reading the following (it's okay if you don't get some things for now, the focus is not yet full understanding, it's awareness):\n",
        "  * The documentation on [`torch.Tensor`](https://pytorch.org/docs/stable/tensors.html#torch-tensor).\n",
        "  * The documentation on [`torch.cuda`](https://pytorch.org/docs/master/notes/cuda.html#cuda-semantics).\n",
        "\n"
      ],
      "metadata": {
        "id": "AzDBM_v4iMe7"
      }
    },
    {
      "cell_type": "code",
      "source": [
        "# No code solution (reading)"
      ],
      "metadata": {
        "id": "bGD0oD8Kizak"
      },
      "execution_count": null,
      "outputs": []
    },
    {
      "cell_type": "markdown",
      "source": [
        "### 2. Create a random tensor with shape `(7, 7)`.\n"
      ],
      "metadata": {
        "id": "__iXqqz-ioUJ"
      }
    },
    {
      "cell_type": "code",
      "source": [
        "# Import torch\n",
        "import torch\n",
        "print(torch.__version__)\n",
        "# Create random tensor\n",
        "rand_tensor = torch.rand(size=(7,7))\n",
        "rand_tensor"
      ],
      "metadata": {
        "id": "6pUq9Dc8i2L7",
        "colab": {
          "base_uri": "https://localhost:8080/"
        },
        "outputId": "39a41c37-8208-422c-e613-36f7df72fb77"
      },
      "execution_count": null,
      "outputs": [
        {
          "output_type": "stream",
          "name": "stdout",
          "text": [
            "2.1.0+cu121\n"
          ]
        },
        {
          "output_type": "execute_result",
          "data": {
            "text/plain": [
              "tensor([[0.9652, 0.4563, 0.9559, 0.7367, 0.5033, 0.5079, 0.2078],\n",
              "        [0.8974, 0.0251, 0.4401, 0.3505, 0.6741, 0.9640, 0.5443],\n",
              "        [0.6007, 0.6610, 0.4796, 0.8186, 0.5026, 0.4628, 0.4079],\n",
              "        [0.7481, 0.7726, 0.6184, 0.8055, 0.8774, 0.5814, 0.7529],\n",
              "        [0.3684, 0.2968, 0.9864, 0.4851, 0.9287, 0.1876, 0.4234],\n",
              "        [0.7825, 0.9441, 0.8726, 0.4620, 0.0033, 0.5670, 0.4126],\n",
              "        [0.5985, 0.0653, 0.8865, 0.1555, 0.3114, 0.7564, 0.0464]])"
            ]
          },
          "metadata": {},
          "execution_count": 3
        }
      ]
    },
    {
      "cell_type": "markdown",
      "source": [
        "### 3. Perform a matrix multiplication on the tensor from 2 with another random tensor with shape `(1, 7)` (hint: you may have to transpose the second tensor)."
      ],
      "metadata": {
        "id": "9-XxvRLfiqkR"
      }
    },
    {
      "cell_type": "code",
      "source": [
        "# Create another random tensor\n",
        "matrix_1 = torch.rand(size=(1,7))\n",
        "matrix_2 = torch.rand(size=(1,7))\n",
        "# Perform matrix multiplication\n",
        "matrix_mul = matrix_1 * matrix_2.T\n",
        "matrix_mul"
      ],
      "metadata": {
        "id": "NcLqR0Sbi_vT",
        "colab": {
          "base_uri": "https://localhost:8080/"
        },
        "outputId": "a065a48c-d791-4b63-a989-14d9db2276c5"
      },
      "execution_count": null,
      "outputs": [
        {
          "output_type": "execute_result",
          "data": {
            "text/plain": [
              "tensor([[0.1052, 0.0791, 0.1837, 0.1047, 0.2035, 0.2231, 0.0574],\n",
              "        [0.0593, 0.0446, 0.1035, 0.0590, 0.1146, 0.1257, 0.0323],\n",
              "        [0.0978, 0.0735, 0.1706, 0.0972, 0.1890, 0.2072, 0.0533],\n",
              "        [0.0316, 0.0237, 0.0551, 0.0314, 0.0610, 0.0669, 0.0172],\n",
              "        [0.1681, 0.1264, 0.2934, 0.1672, 0.3251, 0.3564, 0.0917],\n",
              "        [0.1754, 0.1319, 0.3062, 0.1745, 0.3392, 0.3719, 0.0957],\n",
              "        [0.0405, 0.0304, 0.0707, 0.0403, 0.0783, 0.0858, 0.0221]])"
            ]
          },
          "metadata": {},
          "execution_count": 4
        }
      ]
    },
    {
      "cell_type": "markdown",
      "source": [
        "### 4. Set the random seed to `0` and do 2 & 3 over again.\n",
        "\n",
        "The output should be:\n",
        "```\n",
        "(tensor([[1.8542],\n",
        "         [1.9611],\n",
        "         [2.2884],\n",
        "         [3.0481],\n",
        "         [1.7067],\n",
        "         [2.5290],\n",
        "         [1.7989]]), torch.Size([7, 1]))\n",
        "```"
      ],
      "metadata": {
        "id": "eiutdKUFiryU"
      }
    },
    {
      "cell_type": "code",
      "source": [
        "import random\n",
        "# Set manual seed\n",
        "RANDOM_SEED = 0\n",
        "torch.manual_seed(seed=RANDOM_SEED)\n",
        "# Create two random tensors\n",
        "random_tensor_1 = torch.rand(3,4)\n",
        "torch.manual_seed(seed=RANDOM_SEED)\n",
        "random_tensor_2 = torch.rand(3,4)\n",
        "# Matrix multiply tensors\n",
        "random_tensor_mul_2 = torch.matmul(random_tensor_1.T, random_tensor_2)\n",
        "random_tensor_mul_2"
      ],
      "metadata": {
        "id": "D-lOWI_1jRMm",
        "colab": {
          "base_uri": "https://localhost:8080/"
        },
        "outputId": "2a9c7d5c-1a11-4dfb-9f22-aeb7c2df8ad8"
      },
      "execution_count": null,
      "outputs": [
        {
          "output_type": "execute_result",
          "data": {
            "text/plain": [
              "tensor([[0.5484, 0.8643, 0.3535, 0.5241],\n",
              "        [0.8643, 1.3920, 0.5993, 0.9239],\n",
              "        [0.3535, 0.5993, 0.3697, 0.5912],\n",
              "        [0.5241, 0.9239, 0.5912, 0.9824]])"
            ]
          },
          "metadata": {},
          "execution_count": 5
        }
      ]
    },
    {
      "cell_type": "markdown",
      "source": [
        "### 5. Speaking of random seeds, we saw how to set it with `torch.manual_seed()` but is there a GPU equivalent? (hint: you'll need to look into the documentation for `torch.cuda` for this one)\n",
        "  * If there is, set the GPU random seed to `1234`."
      ],
      "metadata": {
        "id": "ezY6ks9Cis37"
      }
    },
    {
      "cell_type": "code",
      "source": [
        "# Set random seed on the GPU\n",
        "RANDOM_SEED_CUDA = 1234\n",
        "torch.cuda.manual_seed(seed=RANDOM_SEED_CUDA)"
      ],
      "metadata": {
        "id": "_LKWcfSTjp00"
      },
      "execution_count": null,
      "outputs": []
    },
    {
      "cell_type": "markdown",
      "source": [
        "\n",
        "### 6. Create two random tensors of shape `(2, 3)` and send them both to the GPU (you'll need access to a GPU for this). Set `torch.manual_seed(1234)` when creating the tensors (this doesn't have to be the GPU random seed). The output should be something like:\n",
        "\n",
        "```\n",
        "Device: cuda\n",
        "(tensor([[0.0290, 0.4019, 0.2598],\n",
        "         [0.3666, 0.0583, 0.7006]], device='cuda:0'),\n",
        " tensor([[0.0518, 0.4681, 0.6738],\n",
        "         [0.3315, 0.7837, 0.5631]], device='cuda:0'))\n",
        "```"
      ],
      "metadata": {
        "id": "Ir9qSaj6it4n"
      }
    },
    {
      "cell_type": "code",
      "source": [
        "# Set random seed\n",
        "torch.cuda.manual_seed(seed=RANDOM_SEED_CUDA)\n",
        "# Check for access to GPU\n",
        "if torch.cuda.is_available():\n",
        "    print(\"CUDA is available. GPU Info:\")\n",
        "    print(torch.cuda.get_device_name(torch.cuda.current_device()))\n",
        "else:\n",
        "    print(\"CUDA is not available.\")\n",
        "# Create two random tensors on GPU\n",
        "device = torch.device(\"cuda\" if torch.cuda.is_available() else \"cpu\")\n",
        "tensor_A = torch.rand(2, 3, device=device)\n",
        "tensor_B = torch.rand(2, 3, device=device)\n",
        "\n",
        "# Print device and the tensors\n",
        "print(f\"Device: {device}\\n({tensor_A},\\n {tensor_B})\")"
      ],
      "metadata": {
        "id": "azXExiFZj5nm",
        "colab": {
          "base_uri": "https://localhost:8080/"
        },
        "outputId": "42ffe35c-2c3b-4d45-961d-c58315f88138"
      },
      "execution_count": null,
      "outputs": [
        {
          "output_type": "stream",
          "name": "stdout",
          "text": [
            "CUDA is available. GPU Info:\n",
            "Tesla T4\n",
            "Device: cuda\n",
            "(tensor([[0.1272, 0.8167, 0.5440],\n",
            "        [0.6601, 0.2721, 0.9737]], device='cuda:0'),\n",
            " tensor([[0.6208, 0.0276, 0.3255],\n",
            "        [0.1114, 0.6812, 0.3608]], device='cuda:0'))\n"
          ]
        }
      ]
    },
    {
      "cell_type": "markdown",
      "source": [
        "\n",
        "### 7. Perform a matrix multiplication on the tensors you created in 6 (again, you may have to adjust the shapes of one of the tensors).\n",
        "\n",
        "The output should look like:\n",
        "```\n",
        "(tensor([[0.3647, 0.4709],\n",
        "         [0.5184, 0.5617]], device='cuda:0'), torch.Size([2, 2]))\n",
        "```"
      ],
      "metadata": {
        "id": "5TlAxeiSiu1y"
      }
    },
    {
      "cell_type": "code",
      "source": [
        "# Perform matmul on tensor_A and tensor_B\n",
        "matmul_operation = torch.matmul(tensor_A, tensor_B.T)\n",
        "matmul_operation, matmul_operation.size()"
      ],
      "metadata": {
        "id": "fAeG7ox0lHEO",
        "colab": {
          "base_uri": "https://localhost:8080/"
        },
        "outputId": "5933b5a3-4c39-467b-9f8e-4752f1c01f04"
      },
      "execution_count": null,
      "outputs": [
        {
          "output_type": "execute_result",
          "data": {
            "text/plain": [
              "(tensor([[0.2786, 0.7668],\n",
              "         [0.7343, 0.6102]], device='cuda:0'),\n",
              " torch.Size([2, 2]))"
            ]
          },
          "metadata": {},
          "execution_count": 8
        }
      ]
    },
    {
      "cell_type": "markdown",
      "source": [
        "### 8. Find the maximum and minimum values of the output of 7."
      ],
      "metadata": {
        "id": "G7qfa5CSivwg"
      }
    },
    {
      "cell_type": "code",
      "source": [
        "# Find max\n",
        "max_value = torch.max(matmul_operation)\n",
        "# Find min\n",
        "min_value = torch.min(matmul_operation)\n",
        "print(f\"(Max value: {max_value},\\n Min value:{min_value})\")"
      ],
      "metadata": {
        "id": "Fu8_3mZpllOd",
        "colab": {
          "base_uri": "https://localhost:8080/"
        },
        "outputId": "47beab94-5098-4e33-e88e-86991e3e5528"
      },
      "execution_count": null,
      "outputs": [
        {
          "output_type": "stream",
          "name": "stdout",
          "text": [
            "(Max value: 0.7667766809463501,\n",
            " Min value:0.27863210439682007)\n"
          ]
        }
      ]
    },
    {
      "cell_type": "markdown",
      "source": [
        "### 9. Find the maximum and minimum index values of the output of 7."
      ],
      "metadata": {
        "id": "wrTj5FgNiw47"
      }
    },
    {
      "cell_type": "code",
      "source": [
        "# Find arg max\n",
        "arg_max_matmul_operation = matmul_operation.argmax()\n",
        "# Find arg min\n",
        "arg_min_matmul_operation = matmul_operation.argmin()\n",
        "print(f\"(maximum index value of the output of matmul_operation: {arg_max_matmul_operation},\\n minimum index value of the output of matmul_operation:{arg_min_matmul_operation})\")"
      ],
      "metadata": {
        "id": "CCEKt4K2lsfQ",
        "colab": {
          "base_uri": "https://localhost:8080/"
        },
        "outputId": "0e9ee77d-02a4-43b3-e23c-def69755fc25"
      },
      "execution_count": null,
      "outputs": [
        {
          "output_type": "stream",
          "name": "stdout",
          "text": [
            "(maximum index value of the output of matmul_operation: 1,\n",
            " minimum index value of the output of matmul_operation:0)\n"
          ]
        }
      ]
    },
    {
      "cell_type": "markdown",
      "source": [
        "\n",
        "### 10. Make a random tensor with shape `(1, 1, 1, 10)` and then create a new tensor with all the `1` dimensions removed to be left with a tensor of shape `(10)`. Set the seed to `7` when you create it and print out the first tensor and it's shape as well as the second tensor and it's shape.\n",
        "\n",
        "The output should look like:\n",
        "\n",
        "```\n",
        "tensor([[[[0.5349, 0.1988, 0.6592, 0.6569, 0.2328, 0.4251, 0.2071, 0.6297,\n",
        "           0.3653, 0.8513]]]]) torch.Size([1, 1, 1, 10])\n",
        "tensor([0.5349, 0.1988, 0.6592, 0.6569, 0.2328, 0.4251, 0.2071, 0.6297, 0.3653,\n",
        "        0.8513]) torch.Size([10])\n",
        "```"
      ],
      "metadata": {
        "id": "hmeybz4uixy7"
      }
    },
    {
      "cell_type": "code",
      "source": [
        "# Set seed\n",
        "RANDOM_SEED = 7\n",
        "torch.manual_seed(seed=RANDOM_SEED)\n",
        "\n",
        "# Create random tensor\n",
        "rand_tensor_last = torch.rand(size=(1,1,1,10))\n",
        "print(rand_tensor_last, rand_tensor_last.size())\n",
        "# Remove single dimensions\n",
        "only_last = torch.squeeze(rand_tensor_last)\n",
        "\n",
        "# Print out tensors and their shapes\n",
        "print(only_last, only_last.size())"
      ],
      "metadata": {
        "id": "TQ9zbRzVl1jV",
        "colab": {
          "base_uri": "https://localhost:8080/"
        },
        "outputId": "b37636bf-cdbb-43a9-ff89-29549db3bb3e"
      },
      "execution_count": null,
      "outputs": [
        {
          "output_type": "stream",
          "name": "stdout",
          "text": [
            "tensor([[[[0.5349, 0.1988, 0.6592, 0.6569, 0.2328, 0.4251, 0.2071, 0.6297,\n",
            "           0.3653, 0.8513]]]]) torch.Size([1, 1, 1, 10])\n",
            "tensor([0.5349, 0.1988, 0.6592, 0.6569, 0.2328, 0.4251, 0.2071, 0.6297, 0.3653,\n",
            "        0.8513]) torch.Size([10])\n"
          ]
        }
      ]
    },
    {
      "cell_type": "code",
      "source": [],
      "metadata": {
        "id": "eTJdS2fiBidv"
      },
      "execution_count": null,
      "outputs": []
    }
  ]
}